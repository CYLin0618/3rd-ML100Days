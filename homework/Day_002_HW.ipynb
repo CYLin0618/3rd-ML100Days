{
 "cells": [
  {
   "cell_type": "markdown",
   "metadata": {},
   "source": [
    "## [作業目標]\n",
    "了解機器學習適合應用的領域與範疇。"
   ]
  },
  {
   "cell_type": "markdown",
   "metadata": {},
   "source": [
    "## [作業重點]\n",
    "透過瞭解機器學習的運作方式，找出非常適用機器學習應用的領域及其原因"
   ]
  },
  {
   "cell_type": "markdown",
   "metadata": {},
   "source": [
    "## 作業\n",
    "請找出一個你認為機器學習可以發光發熱的領域並闡述原因? "
   ]
  },
  {
   "cell_type": "markdown",
   "metadata": {},
   "source": [
    "我認為機器學習可以在金融業發光發熱，原因在於許多法規規定金融業必須保存客戶資料，短則1年，長則可達5年以上，資料非常大量豐富。此外，許多問題可以歸納為監督式學習問題，例如預測哪些刷卡樣態是盜刷行為、哪些客戶未來一年內是否會違約、哪些客戶透過電話行銷後會成交、哪些交易樣態是洗錢行為等，這些問題應該有自己的pattern，但過去是由人根據經驗所想出來的規則執行，透過機器學習從資料中找尋規律與趨勢，理論上能做的比人更好，不僅大幅提升精準度以外，同時更大幅減少人力作業的行銷成本、時間成本或維繫成本。"
   ]
  }
 ],
 "metadata": {
  "kernelspec": {
   "display_name": "Python 3",
   "language": "python",
   "name": "python3"
  },
  "language_info": {
   "codemirror_mode": {
    "name": "ipython",
    "version": 3
   },
   "file_extension": ".py",
   "mimetype": "text/x-python",
   "name": "python",
   "nbconvert_exporter": "python",
   "pygments_lexer": "ipython3",
   "version": "3.6.6"
  }
 },
 "nbformat": 4,
 "nbformat_minor": 2
}
